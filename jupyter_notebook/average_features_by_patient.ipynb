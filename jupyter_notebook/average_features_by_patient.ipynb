{
 "cells": [
  {
   "cell_type": "markdown",
   "id": "b5e6f4b3-6f6b-452f-b234-30bc00e06ee4",
   "metadata": {},
   "source": [
    "# About the notebook\n",
    "The purpose of this Jupyter Notebook is to average the extracted features for each patient (3 samples were obtained for each patient)\n",
    "\n",
    "# 01 - Loading dependencies\n",
    "In this notebook, before running any code, there are several libraries and modules that need to be imported to ensure that the notebook runs smoothly. These libraries and modules contain pre-written code that performs specific tasks, such as reading and processing images, defining the UNET model, and training the model."
   ]
  },
  {
   "cell_type": "code",
   "execution_count": 5,
   "id": "90363ca3-a81a-484e-ac2a-21b66a024bba",
   "metadata": {},
   "outputs": [],
   "source": [
    "import pandas as pd\n",
    "from pathlib import Path\n",
    "\n",
    "def convert_file_of_features_to_file_of_features_average(file_path):\n",
    "    file_path = Path(file_path)\n",
    "    # Read the data file\n",
    "    data = pd.read_excel(file_path)\n",
    "\n",
    "    # Extract the first 9 characters of each ID\n",
    "    data['shortID'] = data['file_id'].str[:9]\n",
    "\n",
    "    # Verify that there are exactly 3 fields per patient\n",
    "    if not all(data['shortID'].value_counts() == 3):\n",
    "        raise ValueError(\"Exactly 3 fields per patient are required\")\n",
    "\n",
    "    # Select only numeric columns for averaging\n",
    "    numeric_columns = data.select_dtypes(include='number').columns\n",
    "\n",
    "    # Calculate the average of the values by ID\n",
    "    averaged_data = data.groupby('shortID')[numeric_columns].mean().reset_index()\n",
    "\n",
    "    # Merge averaged data back with shortID\n",
    "    averaged_data = pd.merge(data[['shortID']].drop_duplicates(), averaged_data, on='shortID', how='left')\n",
    "\n",
    "    # Replace the 'shortID' column with 'ID'\n",
    "    averaged_data.rename(columns={'shortID': 'ID'}, inplace=True)\n",
    "\n",
    "    # Generate the output file name\n",
    "    output_file_name = file_path.with_stem(file_path.stem + '_averaged_data')\n",
    "\n",
    "    # Save the result to a new Excel file\n",
    "    averaged_data.to_excel(output_file_name, index=False)\n",
    "    \n",
    "    print(f'The file has been saved as {output_file_name}')\n"
   ]
  },
  {
   "cell_type": "code",
   "execution_count": 13,
   "id": "46c7dcf1-83fe-4a0f-ab96-07a01e1cee38",
   "metadata": {},
   "outputs": [
    {
     "name": "stdout",
     "output_type": "stream",
     "text": [
      "The file has been saved as C:\\Users\\paulh\\OneDrive\\Documentos\\PAPER\\Journal\\2024_Psoriasis\\analysis_dataset\\Tratamiento\\Claudina_4\\group_1_averaged_data.xlsx\n"
     ]
    }
   ],
   "source": [
    "file_path = r\"C:\\Users\\paulh\\OneDrive\\Documentos\\PAPER\\Journal\\2024_Psoriasis\\analysis_dataset\\Tratamiento\\Claudina_4\\group_1.xlsx\"\n",
    "convert_file_of_features_to_file_of_features_average(file_path)"
   ]
  },
  {
   "cell_type": "code",
   "execution_count": null,
   "id": "47f0f8d2-5b42-4b9a-91da-c48b15f0115d",
   "metadata": {},
   "outputs": [],
   "source": []
  }
 ],
 "metadata": {
  "kernelspec": {
   "display_name": "Python 3 (ipykernel)",
   "language": "python",
   "name": "python3"
  },
  "language_info": {
   "codemirror_mode": {
    "name": "ipython",
    "version": 3
   },
   "file_extension": ".py",
   "mimetype": "text/x-python",
   "name": "python",
   "nbconvert_exporter": "python",
   "pygments_lexer": "ipython3",
   "version": "3.10.14"
  }
 },
 "nbformat": 4,
 "nbformat_minor": 5
}
