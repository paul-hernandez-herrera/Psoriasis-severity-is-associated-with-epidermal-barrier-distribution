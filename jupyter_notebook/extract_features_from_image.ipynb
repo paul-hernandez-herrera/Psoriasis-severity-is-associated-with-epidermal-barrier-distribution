{
 "cells": [
  {
   "cell_type": "markdown",
   "id": "0c814820",
   "metadata": {},
   "source": [
    "# About the notebook\n",
    "The purpose of this Jupyter Notebook is to extract features from images that are relevant for distinguishing between two different groups and save those features to a CSV file.\n",
    "\n",
    "# 01 - Loading dependencies\n",
    "In this notebook, before running any code, there are several libraries and modules that need to be imported to ensure that the notebook runs smoothly. These libraries and modules contain pre-written code that performs specific tasks, such as reading and processing images, and extracting features"
   ]
  },
  {
   "cell_type": "code",
   "execution_count": null,
   "id": "d18617ce",
   "metadata": {},
   "outputs": [],
   "source": [
    "import os\n",
    "if 'workbookDir' not in globals():\n",
    "    print('Updating working directory')\n",
    "    workbookDir = os.getcwd()\n",
    "    os.chdir(workbookDir)\n",
    "print(os.getcwd())\n",
    "\n",
    "libraries = [\"hdaf_filter\"]\n",
    "for library in libraries:\n",
    "    try:\n",
    "        __import__(library)\n",
    "    except ImportError:\n",
    "        !pip install git+https://github.com/paul-hernandez-herrera/hdaf_filtering\n",
    "        __import__(library)\n",
    "\n",
    "import pandas as pd\n",
    "import numpy as np\n",
    "import matplotlib.pyplot as plt\n",
    "import core_code.features as class_features\n",
    "#allow reloading the functions updates\n",
    "%load_ext autoreload\n",
    "%autoreload 2"
   ]
  },
  {
   "cell_type": "markdown",
   "id": "c1bf4f4d",
   "metadata": {},
   "source": [
    "# 02 - Auxiliary functions\n",
    "Auxiliary functions to make the code more clear and compact"
   ]
  },
  {
   "cell_type": "code",
   "execution_count": null,
   "id": "316bbf4d",
   "metadata": {},
   "outputs": [],
   "source": [
    "def create_table(features_dict):\n",
    "    # Get the number of feature sets\n",
    "    num_channels = len(features_dict)\n",
    "    \n",
    "    # Initialize an empty list to hold the combined features\n",
    "    combined_features = []\n",
    "    # Iterate over the files in the first feature set (assuming all sets have the same number of files)\n",
    "    for i in range(len(features_dict['nucleus']['list_files'])):\n",
    "        # Initialize a list to hold the features for the current file\n",
    "        current_file_features = [features_dict['nucleus']['list_files'][i]]\n",
    "        # Iterate over each set of features (number of channels)\n",
    "        for k in features_dict.keys():\n",
    "            current_file_features.extend([\n",
    "                features_dict[k]['distance'][i],\n",
    "                features_dict[k]['img_mean'][i],\n",
    "                features_dict[k]['intensity_mean_objects'][i],\n",
    "                features_dict[k]['mean_tamano_objetos'][i],\n",
    "                features_dict[k]['num objects'][i]\n",
    "            ])\n",
    "        # Append the combined features of the current file to the result list\n",
    "        combined_features.append(current_file_features)\n",
    "\n",
    "    features_keys = ['file_id']\n",
    "    # Iterate over each set of features (number of channels)\n",
    "    for k in features_dict.keys():\n",
    "        features_keys.append([f\"F_{k}_distance\"])\n",
    "        features_keys.append([f\"F_{k}_img_mean_intensity\"])\n",
    "        features_keys.append([f\"F_{k}_objects_mean_intensity\"])\n",
    "        features_keys.append([f\"F_{k}_objects_mean_size\"])\n",
    "        features_keys.append([f\"F_{k}_number_objects\"])   \n",
    "    return combined_features, features_keys\n",
    "    \n",
    "def save_to_excel(data, filename, columns):\n",
    "    df = pd.DataFrame(data, columns=columns)\n",
    "    df.to_excel(filename, index=False)\n"
   ]
  },
  {
   "cell_type": "markdown",
   "id": "91655c7c",
   "metadata": {},
   "source": [
    "# 03 - Setting required parameters\n",
    "In this section, users can specify the necessary parameters to extract the features from images. The following parameters are required:\n",
    "\n",
    "**Folder path group 1**: The path to the folder containing the input images for group 1. \\\n",
    "**Folder path group 2**: The path to the folder containing the input images for group 1. \n",
    "\n",
    "**radius channel 1**: The approximate size (radius) of the objects to detect for images in channel 1. \\\n",
    "**radius channel 2**: The approximate size (radius) of the objects to detect for images in channel 2."
   ]
  },
  {
   "cell_type": "code",
   "execution_count": null,
   "id": "0d63c199",
   "metadata": {},
   "outputs": [],
   "source": [
    "folder_group_1 = r\"C:\\Users\\paulh\\Downloads\\Claudina-1 20x un campo\\Claudina-1 20x un campo\\20X SANOS\"\n",
    "folder_group_2 = r\"C:\\Users\\paulh\\Downloads\\Claudina-1 20x un campo\\Claudina-1 20x un campo\\20X PACIENTES\"\n",
    "\n",
    "# radius - 3 fields of view\n",
    "# radius_c0 = [4, 7, 10]\n",
    "# radius_c1 = [1]\n",
    "# noise_size = 4\n",
    "\n",
    "# radius \n",
    "radius_c0 = [3.5285892540708317, 5.202566786447311, 6.875301098101214]\n",
    "radius_c1 = [0.8319221980780127]\n",
    "noise_size = 8"
   ]
  },
  {
   "cell_type": "markdown",
   "id": "a65367e7",
   "metadata": {},
   "source": [
    "# 04 - Run code\n",
    "This sections provides the main code to extract the features and create figures from the data."
   ]
  },
  {
   "cell_type": "code",
   "execution_count": null,
   "id": "aa66d979",
   "metadata": {},
   "outputs": [],
   "source": [
    "# features for group 1\n",
    "features_group1 = {}\n",
    "features_group1['nucleus'] = class_features.get_features(folder_group_1, channel = 0, radius = radius_c0, noise_size = noise_size)\n",
    "features_group1['claudina'] = class_features.get_features(folder_group_1, channel = 1, radius = radius_c1, noise_size = noise_size)\n",
    "\n",
    "table_group1, key_group1 = create_table(features_group1)\n",
    "save_to_excel(table_group1, f\"group_1_r1={'_'.join(f'{x:.2f}' for x in radius_c0)}_r2={'_'.join(f'{x:.2f}' for x in radius_c1)}_noise={noise_size}.xlsx\", key_group1)\n",
    "\n",
    "# features for group 2\n",
    "features_group2 = {}\n",
    "features_group2['nucleus'] = class_features.get_features(folder_group_2, channel = 0, radius = radius_c0, noise_size = noise_size)\n",
    "features_group2['claudina'] = class_features.get_features(folder_group_2, channel = 1, radius = radius_c1, noise_size = noise_size)\n",
    "\n",
    "table_group2, key_group2 = create_table(features_group2)\n",
    "save_to_excel(table_group2, f\"group_2_r1={'_'.join(f'{x:.2f}' for x in radius_c0)}_r2={'_'.join(f'{x:.2f}' for x in radius_c1)}_noise={noise_size}.xlsx\", key_group2)\n",
    "\n",
    "# Choose the features to plot\n",
    "f = [['claudina','num objects'], ['claudina', 'distance']]\n",
    "\n",
    "# Get the features selected for plotting\n",
    "F_group1 = np.column_stack((features_group1[f[0][0]][f[0][1]], features_group1[f[1][0]][f[1][1]]))\n",
    "F_group2 = np.column_stack((features_group2[f[0][0]][f[0][1]], features_group2[f[1][0]][f[1][1]]))\n",
    "\n",
    "# Creating the plot of the features\n",
    "plt.figure()\n",
    "plt.plot(F_group1[:, 0], F_group1[:, 1], 'b*', label='Group 1')\n",
    "plt.plot(F_group2[:, 0], F_group2[:, 1], 'r*', label='Group 2')\n",
    "plt.xlabel(f'{f[0][0]} --- {f[0][1]}')\n",
    "plt.ylabel(f'{f[1][0]} --- {f[1][1]}')\n",
    "plt.legend()\n",
    "plt.savefig('features_plot.png')  # Guardar la gráfica\n",
    "plt.show()\n",
    "\n",
    "print(\"\\n\\n Program has finished...\")"
   ]
  }
 ],
 "metadata": {
  "kernelspec": {
   "display_name": "Python 3 (ipykernel)",
   "language": "python",
   "name": "python3"
  },
  "language_info": {
   "codemirror_mode": {
    "name": "ipython",
    "version": 3
   },
   "file_extension": ".py",
   "mimetype": "text/x-python",
   "name": "python",
   "nbconvert_exporter": "python",
   "pygments_lexer": "ipython3",
   "version": "3.10.14"
  }
 },
 "nbformat": 4,
 "nbformat_minor": 5
}
